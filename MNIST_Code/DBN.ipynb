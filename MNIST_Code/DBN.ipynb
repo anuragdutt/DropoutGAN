{
 "cells": [
  {
   "cell_type": "code",
   "execution_count": 7,
   "metadata": {},
   "outputs": [],
   "source": [
    "import tensorflow as tf\n",
    "import numpy as np"
   ]
  },
  {
   "cell_type": "code",
   "execution_count": 8,
   "metadata": {},
   "outputs": [
    {
     "name": "stdout",
     "output_type": "stream",
     "text": [
      "Extracting MNIST_data/train-images-idx3-ubyte.gz\n",
      "Extracting MNIST_data/train-labels-idx1-ubyte.gz\n",
      "Extracting MNIST_data/t10k-images-idx3-ubyte.gz\n",
      "Extracting MNIST_data/t10k-labels-idx1-ubyte.gz\n"
     ]
    }
   ],
   "source": [
    "from tensorflow.examples.tutorials.mnist import input_data\n",
    "mnist = input_data.read_data_sets(\"MNIST_data/\", one_hot=True)"
   ]
  },
  {
   "cell_type": "code",
   "execution_count": 11,
   "metadata": {},
   "outputs": [],
   "source": [
    "from dbn import DBN\n",
    "from cnn import CNN\n",
    "from sup_sae import supervised_sAE\n",
    "from base_func import run_sess"
   ]
  },
  {
   "cell_type": "code",
   "execution_count": 12,
   "metadata": {},
   "outputs": [],
   "source": [
    "datasets = [mnist.train.images,mnist.train.labels,mnist.test.images , mnist.test.labels]"
   ]
  },
  {
   "cell_type": "code",
   "execution_count": 13,
   "metadata": {},
   "outputs": [],
   "source": [
    "x_dim=datasets[0].shape[1] \n",
    "y_dim=datasets[1].shape[1] \n",
    "p_dim=int(np.sqrt(x_dim))"
   ]
  },
  {
   "cell_type": "code",
   "execution_count": 14,
   "metadata": {},
   "outputs": [
    {
     "data": {
      "text/plain": [
       "(784, 10, 28)"
      ]
     },
     "execution_count": 14,
     "metadata": {},
     "output_type": "execute_result"
    }
   ],
   "source": [
    "x_dim,y_dim,p_dim"
   ]
  },
  {
   "cell_type": "code",
   "execution_count": 15,
   "metadata": {},
   "outputs": [],
   "source": [
    "tf.reset_default_graph()"
   ]
  },
  {
   "cell_type": "code",
   "execution_count": 43,
   "metadata": {},
   "outputs": [
    {
     "name": "stdout",
     "output_type": "stream",
     "text": [
      "Start building model...\n",
      "DBN:\n",
      "{'show_pic': True, 'tbd': False, 'save_model': False, 'plot_para': False, 'save_weight': False, 'do_tSNE': False, 'name': 'DBN', 'ave_acc': 0, 'best_acc': None, 'momentum': 0.9, 'output_act_func': 'softmax', 'loss_func': 'cross_entropy', 'bp_algorithm': 'adam', 'use_label': False, 'pre_exp_time': None, 'deep_feature': None, 'h_act_p': 0, 'recon_data': None, 'pt_model': None, 'decay_lr': False, 'loss': None, 'accuracy': None, 'train_batch': None, 'merge': None, 'pt_img': None, 'title': False, 'pred_Y': None, 'mse': inf, 'loss_and_acc': None, 'test_Y': None, 'real_class': None, 'pred_class': None, 'hidden_act_func': 'sigmoid', 'use_for': 'classification', 'lr': 0.001, 'epochs': 200, 'struct': [784, 500, 500, 2000, 10], 'batch_size': 100, 'dropout': 0.5, 'pre_train': True, 'dbm_struct': [784, 500, 500, 2000], 'units_type': ['gauss', 'bin'], 'cd_k': 1, 'rbm_lr': 0.001, 'rbm_epochs': 5}\n",
      "rbm-1:\n",
      "{'show_pic': True, 'tbd': False, 'save_model': False, 'plot_para': False, 'save_weight': False, 'do_tSNE': False, 'name': 'rbm-1', 'ave_acc': 0, 'best_acc': None, 'momentum': 0.5, 'output_act_func': 'softmax', 'loss_func': 'mse', 'bp_algorithm': 'rmsp', 'use_label': False, 'pre_exp_time': None, 'deep_feature': None, 'h_act_p': 0, 'recon_data': None, 'pt_model': None, 'decay_lr': True, 'loss': None, 'accuracy': None, 'train_batch': None, 'merge': None, 'pt_img': None, 'title': False, 'pred_Y': None, 'mse': inf, 'loss_and_acc': None, 'test_Y': None, 'real_class': None, 'pred_class': None, 'units_type': ['gauss', 'bin'], 'n_v': 784, 'n_h': 500, 'epochs': 5, 'batch_size': 100, 'cd_k': 1, 'lr': 0.001, 'h_func': <function sigmoid at 0x7fde371348c8>, 'v_func': <function act_func.<locals>.affine at 0x7fd9ac692950>}\n",
      "rbm-2:\n",
      "{'show_pic': True, 'tbd': False, 'save_model': False, 'plot_para': False, 'save_weight': False, 'do_tSNE': False, 'name': 'rbm-2', 'ave_acc': 0, 'best_acc': None, 'momentum': 0.5, 'output_act_func': 'softmax', 'loss_func': 'mse', 'bp_algorithm': 'rmsp', 'use_label': False, 'pre_exp_time': None, 'deep_feature': None, 'h_act_p': 0, 'recon_data': None, 'pt_model': None, 'decay_lr': True, 'loss': None, 'accuracy': None, 'train_batch': None, 'merge': None, 'pt_img': None, 'title': False, 'pred_Y': None, 'mse': inf, 'loss_and_acc': None, 'test_Y': None, 'real_class': None, 'pred_class': None, 'units_type': ['gauss', 'bin'], 'n_v': 500, 'n_h': 500, 'epochs': 5, 'batch_size': 100, 'cd_k': 1, 'lr': 0.001, 'h_func': <function sigmoid at 0x7fde371348c8>, 'v_func': <function act_func.<locals>.affine at 0x7fd9ac6928c8>}\n",
      "rbm-3:\n",
      "{'show_pic': True, 'tbd': False, 'save_model': False, 'plot_para': False, 'save_weight': False, 'do_tSNE': False, 'name': 'rbm-3', 'ave_acc': 0, 'best_acc': None, 'momentum': 0.5, 'output_act_func': 'softmax', 'loss_func': 'mse', 'bp_algorithm': 'rmsp', 'use_label': False, 'pre_exp_time': None, 'deep_feature': None, 'h_act_p': 0, 'recon_data': None, 'pt_model': None, 'decay_lr': True, 'loss': None, 'accuracy': None, 'train_batch': None, 'merge': None, 'pt_img': None, 'title': False, 'pred_Y': None, 'mse': inf, 'loss_and_acc': None, 'test_Y': None, 'real_class': None, 'pred_class': None, 'units_type': ['gauss', 'bin'], 'n_v': 500, 'n_h': 2000, 'epochs': 5, 'batch_size': 100, 'cd_k': 1, 'lr': 0.001, 'h_func': <function sigmoid at 0x7fde371348c8>, 'v_func': <function act_func.<locals>.affine at 0x7fd9ac692730>}\n"
     ]
    }
   ],
   "source": [
    "classifier = DBN(\n",
    "                 hidden_act_func='sigmoid',\n",
    "                 output_act_func='softmax',\n",
    "                 loss_func='cross_entropy',\n",
    "                 struct=[x_dim, 500, 500, 2000, y_dim],\n",
    "                 lr=1e-3,\n",
    "                 momentum=0.9,\n",
    "                 use_for='classification',\n",
    "                 bp_algorithm='adam',\n",
    "                 epochs=200,\n",
    "                 batch_size=100,\n",
    "                 dropout=0.5,\n",
    "                 units_type=['gauss','bin'],\n",
    "                 rbm_lr=1e-3,\n",
    "                 rbm_epochs=5,\n",
    "                 cd_k=1)"
   ]
  },
  {
   "cell_type": "code",
   "execution_count": 18,
   "metadata": {},
   "outputs": [],
   "source": [
    "import os\n",
    "import sys"
   ]
  },
  {
   "cell_type": "code",
   "execution_count": 20,
   "metadata": {},
   "outputs": [],
   "source": [
    "filename = os.path.basename('__file__')"
   ]
  },
  {
   "cell_type": "code",
   "execution_count": 44,
   "metadata": {},
   "outputs": [
    {
     "name": "stdout",
     "output_type": "stream",
     "text": [
      "Start Pre-training...\n",
      ">>> Train RBM-1:\n",
      ">>> epoch = 5/5  | 「Train」: loss = 0.1115\n",
      ">>> Train RBM-2:\n",
      ">>> epoch = 5/5  | 「Train」: loss = 0.2757\n",
      ">>> Train RBM-3:\n",
      ">>> epoch = 5/5  | 「Train」: loss = 0.2829\n",
      ">>> Pre-training expend time = 44.48\n",
      "Start Fine-tuning...\n",
      ">>> epoch = 200/200  | 「Train」: loss = 0.08274 , accuracy = 97.4% , expend time = 321.1  | 「Test」: accuracy = 98.27%%\n"
     ]
    },
    {
     "ename": "FileNotFoundError",
     "evalue": "[Errno 2] No such file or directory: '../saver/loss_and_acc.csv'",
     "traceback": [
      "\u001b[0;31m---------------------------------------------------------------------------\u001b[0m",
      "\u001b[0;31mFileNotFoundError\u001b[0m                         Traceback (most recent call last)",
      "\u001b[0;32m<ipython-input-44-178871732e10>\u001b[0m in \u001b[0;36m<module>\u001b[0;34m()\u001b[0m\n\u001b[0;32m----> 1\u001b[0;31m \u001b[0mrun_sess\u001b[0m\u001b[0;34m(\u001b[0m\u001b[0mclassifier\u001b[0m\u001b[0;34m,\u001b[0m\u001b[0mdatasets\u001b[0m\u001b[0;34m,\u001b[0m\u001b[0mfilename\u001b[0m\u001b[0;34m,\u001b[0m\u001b[0mload_saver\u001b[0m\u001b[0;34m=\u001b[0m\u001b[0;34m''\u001b[0m\u001b[0;34m)\u001b[0m\u001b[0;34m\u001b[0m\u001b[0m\n\u001b[0m",
      "\u001b[0;32m~/prs/workspace/base_func.py\u001b[0m in \u001b[0;36mrun_sess\u001b[0;34m(classifier, datasets, filename, load_saver)\u001b[0m\n\u001b[1;32m    393\u001b[0m                            \u001b[0msess\u001b[0m\u001b[0;34m=\u001b[0m\u001b[0msess\u001b[0m\u001b[0;34m,\u001b[0m\u001b[0;34m\u001b[0m\u001b[0m\n\u001b[1;32m    394\u001b[0m                            \u001b[0msumm\u001b[0m\u001b[0;34m=\u001b[0m\u001b[0msumm\u001b[0m\u001b[0;34m,\u001b[0m\u001b[0;34m\u001b[0m\u001b[0m\n\u001b[0;32m--> 395\u001b[0;31m                            load_saver=load_saver)\n\u001b[0m\u001b[1;32m    396\u001b[0m \u001b[0;34m\u001b[0m\u001b[0m\n\u001b[1;32m    397\u001b[0m     \u001b[0mclassifier\u001b[0m\u001b[0;34m.\u001b[0m\u001b[0mshow_and_save_result\u001b[0m\u001b[0;34m(\u001b[0m\u001b[0mfilename\u001b[0m\u001b[0;34m)\u001b[0m\u001b[0;34m\u001b[0m\u001b[0m\n",
      "\u001b[0;32m~/prs/workspace/model.py\u001b[0m in \u001b[0;36mtrain_model\u001b[0;34m(self, train_X, train_Y, test_X, test_Y, sess, summ, load_saver)\u001b[0m\n\u001b[1;32m    230\u001b[0m \u001b[0;34m\u001b[0m\u001b[0m\n\u001b[1;32m    231\u001b[0m             \u001b[0mprint\u001b[0m\u001b[0;34m(\u001b[0m\u001b[0;34m''\u001b[0m\u001b[0;34m)\u001b[0m\u001b[0;34m\u001b[0m\u001b[0m\n\u001b[0;32m--> 232\u001b[0;31m             \u001b[0mnp\u001b[0m\u001b[0;34m.\u001b[0m\u001b[0msavetxt\u001b[0m\u001b[0;34m(\u001b[0m\u001b[0;34m\"../saver/loss_and_acc.csv\"\u001b[0m\u001b[0;34m,\u001b[0m \u001b[0mself\u001b[0m\u001b[0;34m.\u001b[0m\u001b[0mloss_and_acc\u001b[0m\u001b[0;34m,\u001b[0m \u001b[0mfmt\u001b[0m\u001b[0;34m=\u001b[0m\u001b[0;34m'%.4f'\u001b[0m\u001b[0;34m,\u001b[0m\u001b[0mdelimiter\u001b[0m\u001b[0;34m=\u001b[0m\u001b[0;34m\",\"\u001b[0m\u001b[0;34m)\u001b[0m\u001b[0;34m\u001b[0m\u001b[0m\n\u001b[0m\u001b[1;32m    233\u001b[0m \u001b[0;34m\u001b[0m\u001b[0m\n\u001b[1;32m    234\u001b[0m             \u001b[0;32mif\u001b[0m \u001b[0mself\u001b[0m\u001b[0;34m.\u001b[0m\u001b[0msave_model\u001b[0m\u001b[0;34m:\u001b[0m\u001b[0;34m\u001b[0m\u001b[0m\n",
      "\u001b[0;32m~/var/python/lib/python3.6/site-packages/numpy-1.13.3-py3.6-linux-x86_64.egg/numpy/lib/npyio.py\u001b[0m in \u001b[0;36msavetxt\u001b[0;34m(fname, X, fmt, delimiter, newline, header, footer, comments)\u001b[0m\n\u001b[1;32m   1190\u001b[0m         \u001b[0;32melse\u001b[0m\u001b[0;34m:\u001b[0m\u001b[0;34m\u001b[0m\u001b[0m\n\u001b[1;32m   1191\u001b[0m             \u001b[0;32mif\u001b[0m \u001b[0msys\u001b[0m\u001b[0;34m.\u001b[0m\u001b[0mversion_info\u001b[0m\u001b[0;34m[\u001b[0m\u001b[0;36m0\u001b[0m\u001b[0;34m]\u001b[0m \u001b[0;34m>=\u001b[0m \u001b[0;36m3\u001b[0m\u001b[0;34m:\u001b[0m\u001b[0;34m\u001b[0m\u001b[0m\n\u001b[0;32m-> 1192\u001b[0;31m                 \u001b[0mfh\u001b[0m \u001b[0;34m=\u001b[0m \u001b[0mopen\u001b[0m\u001b[0;34m(\u001b[0m\u001b[0mfname\u001b[0m\u001b[0;34m,\u001b[0m \u001b[0;34m'wb'\u001b[0m\u001b[0;34m)\u001b[0m\u001b[0;34m\u001b[0m\u001b[0m\n\u001b[0m\u001b[1;32m   1193\u001b[0m             \u001b[0;32melse\u001b[0m\u001b[0;34m:\u001b[0m\u001b[0;34m\u001b[0m\u001b[0m\n\u001b[1;32m   1194\u001b[0m                 \u001b[0mfh\u001b[0m \u001b[0;34m=\u001b[0m \u001b[0mopen\u001b[0m\u001b[0;34m(\u001b[0m\u001b[0mfname\u001b[0m\u001b[0;34m,\u001b[0m \u001b[0;34m'w'\u001b[0m\u001b[0;34m)\u001b[0m\u001b[0;34m\u001b[0m\u001b[0m\n",
      "\u001b[0;31mFileNotFoundError\u001b[0m: [Errno 2] No such file or directory: '../saver/loss_and_acc.csv'"
     ],
     "output_type": "error"
    }
   ],
   "source": [
    "run_sess(classifier,datasets,filename,load_saver='')"
   ]
  },
  {
   "cell_type": "code",
   "execution_count": null,
   "metadata": {},
   "outputs": [],
   "source": [
    ""
   ]
  }
 ],
 "metadata": {
  "kernelspec": {
   "display_name": "Python 3",
   "language": "python",
   "name": "python3"
  },
  "language_info": {
   "codemirror_mode": {
    "name": "ipython",
    "version": 3.0
   },
   "file_extension": ".py",
   "mimetype": "text/x-python",
   "name": "python",
   "nbconvert_exporter": "python",
   "pygments_lexer": "ipython3",
   "version": "3.6.3"
  }
 },
 "nbformat": 4,
 "nbformat_minor": 0
}